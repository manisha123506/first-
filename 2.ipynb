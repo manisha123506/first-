{
 "cells": [
  {
   "cell_type": "code",
   "execution_count": 1,
   "id": "f359be36",
   "metadata": {},
   "outputs": [],
   "source": [
    "import pandas as pd"
   ]
  },
  {
   "cell_type": "markdown",
   "id": "37e83c3c",
   "metadata": {},
   "source": [
    "1."
   ]
  },
  {
   "cell_type": "code",
   "execution_count": 2,
   "id": "17328d04",
   "metadata": {},
   "outputs": [
    {
     "name": "stdout",
     "output_type": "stream",
     "text": [
      "Mean age of Jalandhar: 28.833333333333332\n",
      "Mean age of Chandigarh: 40.0\n"
     ]
    }
   ],
   "source": [
    "data = {\n",
    "    'City': ['Jalandhar'] * 6 + ['Chandigarh'] * 5,\n",
    "    'Age': [20, 31, 34, 18, 20, 50, 20, 30, 40, 50, 60]\n",
    "}\n",
    "df = pd.DataFrame(data)\n",
    "mean_ages = df.groupby('City')['Age'].mean()\n",
    "\n",
    "print(\"Mean age of Jalandhar:\", mean_ages['Jalandhar'])\n",
    "print(\"Mean age of Chandigarh:\", mean_ages['Chandigarh'])\n"
   ]
  },
  {
   "cell_type": "markdown",
   "id": "9099ae4d",
   "metadata": {},
   "source": [
    "2"
   ]
  },
  {
   "cell_type": "code",
   "execution_count": 3,
   "id": "c7ff13cc",
   "metadata": {},
   "outputs": [
    {
     "name": "stdout",
     "output_type": "stream",
     "text": [
      "Mean age of Jalandhar: 28.833333333333332\n",
      "Mean age of Chandigarh: 40.0\n"
     ]
    }
   ],
   "source": [
    "data = {\n",
    "    'City': ['Jalandhar'] * 6 + ['Chandigarh'] * 5,\n",
    "    'Age': [20, 31, 34, 18, 20, 50, 20, 30, 40, 50, 60]\n",
    "}\n",
    "df = pd.DataFrame(data)\n",
    "mean_ages = df.groupby('City')['Age'].mean()\n",
    "\n",
    "print(\"Mean age of Jalandhar:\", mean_ages['Jalandhar'])\n",
    "print(\"Mean age of Chandigarh:\", mean_ages['Chandigarh'])\n"
   ]
  },
  {
   "cell_type": "markdown",
   "id": "4c93131a",
   "metadata": {},
   "source": [
    "3"
   ]
  },
  {
   "cell_type": "code",
   "execution_count": 4,
   "id": "44e191c6",
   "metadata": {},
   "outputs": [
    {
     "name": "stdout",
     "output_type": "stream",
     "text": [
      "     A    B    C\n",
      "0  1.0  3.0  1.0\n",
      "3  4.0  4.0  4.0\n"
     ]
    }
   ],
   "source": [
    "import numpy as np\n",
    "\n",
    "data = {'A': [1, 2, np.nan, 4], \n",
    "        'B': [np.nan, 2, 3, 4], \n",
    "        'C': [1, np.nan, 3, 4]}\n",
    "df = pd.DataFrame(data)\n",
    "mean_b = df['B'].mean()\n",
    "df['B'] = df['B'].fillna(mean_b)\n",
    "df = df.dropna(subset=['A', 'C'])\n",
    "print(df)"
   ]
  },
  {
   "cell_type": "markdown",
   "id": "cd3c3613",
   "metadata": {},
   "source": [
    "4."
   ]
  },
  {
   "cell_type": "code",
   "execution_count": 5,
   "id": "8c5f16a1",
   "metadata": {},
   "outputs": [
    {
     "name": "stdout",
     "output_type": "stream",
     "text": [
      "0    o7services.com\n",
      "1         gmail.com\n",
      "2         yahoo.com\n",
      "dtype: object\n"
     ]
    }
   ],
   "source": [
    "email_series = pd.Series(['alice@o7services.com', 'bob@gmail.com', 'charlie@yahoo.com'])\n",
    "domain_names = email_series.str.split('@').str[1]\n",
    "print(domain_names)"
   ]
  }
 ],
 "metadata": {
  "kernelspec": {
   "display_name": "Python 3",
   "language": "python",
   "name": "python3"
  },
  "language_info": {
   "codemirror_mode": {
    "name": "ipython",
    "version": 3
   },
   "file_extension": ".py",
   "mimetype": "text/x-python",
   "name": "python",
   "nbconvert_exporter": "python",
   "pygments_lexer": "ipython3",
   "version": "3.13.1"
  }
 },
 "nbformat": 4,
 "nbformat_minor": 5
}
